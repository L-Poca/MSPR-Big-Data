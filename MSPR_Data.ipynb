{
 "cells": [
  {
   "cell_type": "markdown",
   "id": "f76cf634-5754-4969-8801-0e5df95320db",
   "metadata": {},
   "source": [
    "# MSPR Big Data "
   ]
  },
  {
   "cell_type": "markdown",
   "id": "07bb4b2a-658b-4c05-a5ee-67022c718dca",
   "metadata": {},
   "source": [
    "# Initialisation"
   ]
  },
  {
   "cell_type": "markdown",
   "id": "85b0e0f2-560a-4d93-8e34-81c3b21e1c4b",
   "metadata": {},
   "source": [
    "## Chargement Libraries "
   ]
  },
  {
   "cell_type": "code",
   "execution_count": 1,
   "id": "a6ac3bae-1323-49ab-9e1a-a042b5cfefc0",
   "metadata": {
    "tags": []
   },
   "outputs": [],
   "source": [
    "#Gestion Data\n",
    "import pandas as pd\n",
    "import numpy as np \n"
   ]
  },
  {
   "cell_type": "markdown",
   "id": "6a681ab9-237b-494e-b6f6-0c4513382161",
   "metadata": {},
   "source": [
    "# Traitement des données "
   ]
  },
  {
   "cell_type": "markdown",
   "id": "c8de12c7-4c39-4a4b-a69e-2d472f108c25",
   "metadata": {},
   "source": [
    "## Chargement des données "
   ]
  },
  {
   "cell_type": "code",
   "execution_count": 2,
   "id": "e19ae01f-5c3c-4406-9e58-0f46fb0cdcb4",
   "metadata": {
    "tags": []
   },
   "outputs": [
    {
     "name": "stderr",
     "output_type": "stream",
     "text": [
      "C:\\Users\\quentin.bacot.FRLT304136\\AppData\\Local\\Temp\\ipykernel_8444\\3934883952.py:1: DtypeWarning: Columns (2,3,4,6,22,24) have mixed types. Specify dtype option on import or set low_memory=False.\n",
      "  df_general_results = pd.read_csv(\"Data/general_results.csv\", delimiter=\";\")\n"
     ]
    },
    {
     "data": {
      "text/html": [
       "<div>\n",
       "<style scoped>\n",
       "    .dataframe tbody tr th:only-of-type {\n",
       "        vertical-align: middle;\n",
       "    }\n",
       "\n",
       "    .dataframe tbody tr th {\n",
       "        vertical-align: top;\n",
       "    }\n",
       "\n",
       "    .dataframe thead th {\n",
       "        text-align: right;\n",
       "    }\n",
       "</style>\n",
       "<table border=\"1\" class=\"dataframe\">\n",
       "  <thead>\n",
       "    <tr style=\"text-align: right;\">\n",
       "      <th></th>\n",
       "      <th>id_election</th>\n",
       "      <th>id_brut_miom</th>\n",
       "      <th>Code du département</th>\n",
       "      <th>Libellé du département</th>\n",
       "      <th>Code de la commune</th>\n",
       "      <th>Libellé de la commune</th>\n",
       "      <th>Code du b.vote</th>\n",
       "      <th>Inscrits</th>\n",
       "      <th>Abstentions</th>\n",
       "      <th>% Abs/Ins</th>\n",
       "      <th>...</th>\n",
       "      <th>Nuls</th>\n",
       "      <th>% Nuls/Ins</th>\n",
       "      <th>% Nuls/Vot</th>\n",
       "      <th>Exprimés</th>\n",
       "      <th>% Exp/Ins</th>\n",
       "      <th>% Exp/Vot</th>\n",
       "      <th>Code de la circonscription</th>\n",
       "      <th>Libellé de la circonscription</th>\n",
       "      <th>Code du canton</th>\n",
       "      <th>Libellé du canton</th>\n",
       "    </tr>\n",
       "  </thead>\n",
       "  <tbody>\n",
       "    <tr>\n",
       "      <th>0</th>\n",
       "      <td>2019_euro_t1</td>\n",
       "      <td>01001_0001</td>\n",
       "      <td>01</td>\n",
       "      <td>Ain</td>\n",
       "      <td>1</td>\n",
       "      <td>L'Abergement-Clémenciat</td>\n",
       "      <td>0001</td>\n",
       "      <td>601</td>\n",
       "      <td>268</td>\n",
       "      <td>44.59</td>\n",
       "      <td>...</td>\n",
       "      <td>18</td>\n",
       "      <td>3.00</td>\n",
       "      <td>5.41</td>\n",
       "      <td>314</td>\n",
       "      <td>52.25</td>\n",
       "      <td>94.29</td>\n",
       "      <td>NaN</td>\n",
       "      <td>NaN</td>\n",
       "      <td>NaN</td>\n",
       "      <td>NaN</td>\n",
       "    </tr>\n",
       "    <tr>\n",
       "      <th>1</th>\n",
       "      <td>2019_euro_t1</td>\n",
       "      <td>01002_0001</td>\n",
       "      <td>01</td>\n",
       "      <td>Ain</td>\n",
       "      <td>2</td>\n",
       "      <td>L'Abergement-de-Varey</td>\n",
       "      <td>0001</td>\n",
       "      <td>210</td>\n",
       "      <td>69</td>\n",
       "      <td>32.86</td>\n",
       "      <td>...</td>\n",
       "      <td>2</td>\n",
       "      <td>0.95</td>\n",
       "      <td>1.42</td>\n",
       "      <td>135</td>\n",
       "      <td>64.29</td>\n",
       "      <td>95.74</td>\n",
       "      <td>NaN</td>\n",
       "      <td>NaN</td>\n",
       "      <td>NaN</td>\n",
       "      <td>NaN</td>\n",
       "    </tr>\n",
       "    <tr>\n",
       "      <th>2</th>\n",
       "      <td>2019_euro_t1</td>\n",
       "      <td>01004_0001</td>\n",
       "      <td>01</td>\n",
       "      <td>Ain</td>\n",
       "      <td>4</td>\n",
       "      <td>Ambérieu-en-Bugey</td>\n",
       "      <td>0001</td>\n",
       "      <td>1050</td>\n",
       "      <td>548</td>\n",
       "      <td>52.19</td>\n",
       "      <td>...</td>\n",
       "      <td>13</td>\n",
       "      <td>1.24</td>\n",
       "      <td>2.59</td>\n",
       "      <td>474</td>\n",
       "      <td>45.14</td>\n",
       "      <td>94.42</td>\n",
       "      <td>NaN</td>\n",
       "      <td>NaN</td>\n",
       "      <td>NaN</td>\n",
       "      <td>NaN</td>\n",
       "    </tr>\n",
       "    <tr>\n",
       "      <th>3</th>\n",
       "      <td>2019_euro_t1</td>\n",
       "      <td>01004_0002</td>\n",
       "      <td>01</td>\n",
       "      <td>Ain</td>\n",
       "      <td>4</td>\n",
       "      <td>Ambérieu-en-Bugey</td>\n",
       "      <td>0002</td>\n",
       "      <td>1106</td>\n",
       "      <td>527</td>\n",
       "      <td>47.65</td>\n",
       "      <td>...</td>\n",
       "      <td>24</td>\n",
       "      <td>2.17</td>\n",
       "      <td>4.15</td>\n",
       "      <td>540</td>\n",
       "      <td>48.82</td>\n",
       "      <td>93.26</td>\n",
       "      <td>NaN</td>\n",
       "      <td>NaN</td>\n",
       "      <td>NaN</td>\n",
       "      <td>NaN</td>\n",
       "    </tr>\n",
       "    <tr>\n",
       "      <th>4</th>\n",
       "      <td>2019_euro_t1</td>\n",
       "      <td>01004_0003</td>\n",
       "      <td>01</td>\n",
       "      <td>Ain</td>\n",
       "      <td>4</td>\n",
       "      <td>Ambérieu-en-Bugey</td>\n",
       "      <td>0003</td>\n",
       "      <td>1058</td>\n",
       "      <td>485</td>\n",
       "      <td>45.84</td>\n",
       "      <td>...</td>\n",
       "      <td>8</td>\n",
       "      <td>0.76</td>\n",
       "      <td>1.40</td>\n",
       "      <td>551</td>\n",
       "      <td>52.08</td>\n",
       "      <td>96.16</td>\n",
       "      <td>NaN</td>\n",
       "      <td>NaN</td>\n",
       "      <td>NaN</td>\n",
       "      <td>NaN</td>\n",
       "    </tr>\n",
       "    <tr>\n",
       "      <th>...</th>\n",
       "      <td>...</td>\n",
       "      <td>...</td>\n",
       "      <td>...</td>\n",
       "      <td>...</td>\n",
       "      <td>...</td>\n",
       "      <td>...</td>\n",
       "      <td>...</td>\n",
       "      <td>...</td>\n",
       "      <td>...</td>\n",
       "      <td>...</td>\n",
       "      <td>...</td>\n",
       "      <td>...</td>\n",
       "      <td>...</td>\n",
       "      <td>...</td>\n",
       "      <td>...</td>\n",
       "      <td>...</td>\n",
       "      <td>...</td>\n",
       "      <td>...</td>\n",
       "      <td>...</td>\n",
       "      <td>...</td>\n",
       "      <td>...</td>\n",
       "    </tr>\n",
       "    <tr>\n",
       "      <th>2843563</th>\n",
       "      <td>2014_muni_t2</td>\n",
       "      <td>ZP057_0002</td>\n",
       "      <td>ZP</td>\n",
       "      <td>NaN</td>\n",
       "      <td>57</td>\n",
       "      <td>Ua-Pou</td>\n",
       "      <td>0002</td>\n",
       "      <td>157</td>\n",
       "      <td>15</td>\n",
       "      <td>9.55</td>\n",
       "      <td>...</td>\n",
       "      <td>1</td>\n",
       "      <td>0.64</td>\n",
       "      <td>0.70</td>\n",
       "      <td>141</td>\n",
       "      <td>89.81</td>\n",
       "      <td>99.30</td>\n",
       "      <td>NaN</td>\n",
       "      <td>NaN</td>\n",
       "      <td>NaN</td>\n",
       "      <td>NaN</td>\n",
       "    </tr>\n",
       "    <tr>\n",
       "      <th>2843564</th>\n",
       "      <td>2014_muni_t2</td>\n",
       "      <td>ZP057_0006</td>\n",
       "      <td>ZP</td>\n",
       "      <td>NaN</td>\n",
       "      <td>57</td>\n",
       "      <td>Ua-Pou</td>\n",
       "      <td>0006</td>\n",
       "      <td>70</td>\n",
       "      <td>7</td>\n",
       "      <td>10.00</td>\n",
       "      <td>...</td>\n",
       "      <td>0</td>\n",
       "      <td>0.00</td>\n",
       "      <td>0.00</td>\n",
       "      <td>63</td>\n",
       "      <td>90.00</td>\n",
       "      <td>100.00</td>\n",
       "      <td>NaN</td>\n",
       "      <td>NaN</td>\n",
       "      <td>NaN</td>\n",
       "      <td>NaN</td>\n",
       "    </tr>\n",
       "    <tr>\n",
       "      <th>2843565</th>\n",
       "      <td>2014_muni_t2</td>\n",
       "      <td>ZP058_0001</td>\n",
       "      <td>ZP</td>\n",
       "      <td>NaN</td>\n",
       "      <td>58</td>\n",
       "      <td>Uturoa</td>\n",
       "      <td>0001</td>\n",
       "      <td>1179</td>\n",
       "      <td>350</td>\n",
       "      <td>29.69</td>\n",
       "      <td>...</td>\n",
       "      <td>10</td>\n",
       "      <td>0.85</td>\n",
       "      <td>1.21</td>\n",
       "      <td>819</td>\n",
       "      <td>69.47</td>\n",
       "      <td>98.79</td>\n",
       "      <td>NaN</td>\n",
       "      <td>NaN</td>\n",
       "      <td>NaN</td>\n",
       "      <td>NaN</td>\n",
       "    </tr>\n",
       "    <tr>\n",
       "      <th>2843566</th>\n",
       "      <td>2014_muni_t2</td>\n",
       "      <td>ZP058_0002</td>\n",
       "      <td>ZP</td>\n",
       "      <td>NaN</td>\n",
       "      <td>58</td>\n",
       "      <td>Uturoa</td>\n",
       "      <td>0002</td>\n",
       "      <td>1029</td>\n",
       "      <td>225</td>\n",
       "      <td>21.87</td>\n",
       "      <td>...</td>\n",
       "      <td>8</td>\n",
       "      <td>0.78</td>\n",
       "      <td>1.00</td>\n",
       "      <td>796</td>\n",
       "      <td>77.36</td>\n",
       "      <td>99.00</td>\n",
       "      <td>NaN</td>\n",
       "      <td>NaN</td>\n",
       "      <td>NaN</td>\n",
       "      <td>NaN</td>\n",
       "    </tr>\n",
       "    <tr>\n",
       "      <th>2843567</th>\n",
       "      <td>2014_muni_t2</td>\n",
       "      <td>ZP058_0003</td>\n",
       "      <td>ZP</td>\n",
       "      <td>NaN</td>\n",
       "      <td>58</td>\n",
       "      <td>Uturoa</td>\n",
       "      <td>0003</td>\n",
       "      <td>1120</td>\n",
       "      <td>222</td>\n",
       "      <td>19.82</td>\n",
       "      <td>...</td>\n",
       "      <td>20</td>\n",
       "      <td>1.79</td>\n",
       "      <td>2.23</td>\n",
       "      <td>878</td>\n",
       "      <td>78.39</td>\n",
       "      <td>97.77</td>\n",
       "      <td>NaN</td>\n",
       "      <td>NaN</td>\n",
       "      <td>NaN</td>\n",
       "      <td>NaN</td>\n",
       "    </tr>\n",
       "  </tbody>\n",
       "</table>\n",
       "<p>2843568 rows × 25 columns</p>\n",
       "</div>"
      ],
      "text/plain": [
       "          id_election id_brut_miom Code du département Libellé du département  \\\n",
       "0        2019_euro_t1   01001_0001                  01                    Ain   \n",
       "1        2019_euro_t1   01002_0001                  01                    Ain   \n",
       "2        2019_euro_t1   01004_0001                  01                    Ain   \n",
       "3        2019_euro_t1   01004_0002                  01                    Ain   \n",
       "4        2019_euro_t1   01004_0003                  01                    Ain   \n",
       "...               ...          ...                 ...                    ...   \n",
       "2843563  2014_muni_t2   ZP057_0002                  ZP                    NaN   \n",
       "2843564  2014_muni_t2   ZP057_0006                  ZP                    NaN   \n",
       "2843565  2014_muni_t2   ZP058_0001                  ZP                    NaN   \n",
       "2843566  2014_muni_t2   ZP058_0002                  ZP                    NaN   \n",
       "2843567  2014_muni_t2   ZP058_0003                  ZP                    NaN   \n",
       "\n",
       "        Code de la commune    Libellé de la commune Code du b.vote  Inscrits  \\\n",
       "0                        1  L'Abergement-Clémenciat           0001       601   \n",
       "1                        2    L'Abergement-de-Varey           0001       210   \n",
       "2                        4        Ambérieu-en-Bugey           0001      1050   \n",
       "3                        4        Ambérieu-en-Bugey           0002      1106   \n",
       "4                        4        Ambérieu-en-Bugey           0003      1058   \n",
       "...                    ...                      ...            ...       ...   \n",
       "2843563                 57                   Ua-Pou           0002       157   \n",
       "2843564                 57                   Ua-Pou           0006        70   \n",
       "2843565                 58                   Uturoa           0001      1179   \n",
       "2843566                 58                   Uturoa           0002      1029   \n",
       "2843567                 58                   Uturoa           0003      1120   \n",
       "\n",
       "         Abstentions  % Abs/Ins  ...  Nuls  % Nuls/Ins  % Nuls/Vot  Exprimés  \\\n",
       "0                268      44.59  ...    18        3.00        5.41       314   \n",
       "1                 69      32.86  ...     2        0.95        1.42       135   \n",
       "2                548      52.19  ...    13        1.24        2.59       474   \n",
       "3                527      47.65  ...    24        2.17        4.15       540   \n",
       "4                485      45.84  ...     8        0.76        1.40       551   \n",
       "...              ...        ...  ...   ...         ...         ...       ...   \n",
       "2843563           15       9.55  ...     1        0.64        0.70       141   \n",
       "2843564            7      10.00  ...     0        0.00        0.00        63   \n",
       "2843565          350      29.69  ...    10        0.85        1.21       819   \n",
       "2843566          225      21.87  ...     8        0.78        1.00       796   \n",
       "2843567          222      19.82  ...    20        1.79        2.23       878   \n",
       "\n",
       "         % Exp/Ins  % Exp/Vot  Code de la circonscription  \\\n",
       "0            52.25      94.29                         NaN   \n",
       "1            64.29      95.74                         NaN   \n",
       "2            45.14      94.42                         NaN   \n",
       "3            48.82      93.26                         NaN   \n",
       "4            52.08      96.16                         NaN   \n",
       "...            ...        ...                         ...   \n",
       "2843563      89.81      99.30                         NaN   \n",
       "2843564      90.00     100.00                         NaN   \n",
       "2843565      69.47      98.79                         NaN   \n",
       "2843566      77.36      99.00                         NaN   \n",
       "2843567      78.39      97.77                         NaN   \n",
       "\n",
       "         Libellé de la circonscription  Code du canton  Libellé du canton  \n",
       "0                                  NaN             NaN                NaN  \n",
       "1                                  NaN             NaN                NaN  \n",
       "2                                  NaN             NaN                NaN  \n",
       "3                                  NaN             NaN                NaN  \n",
       "4                                  NaN             NaN                NaN  \n",
       "...                                ...             ...                ...  \n",
       "2843563                            NaN             NaN                NaN  \n",
       "2843564                            NaN             NaN                NaN  \n",
       "2843565                            NaN             NaN                NaN  \n",
       "2843566                            NaN             NaN                NaN  \n",
       "2843567                            NaN             NaN                NaN  \n",
       "\n",
       "[2843568 rows x 25 columns]"
      ]
     },
     "execution_count": 2,
     "metadata": {},
     "output_type": "execute_result"
    }
   ],
   "source": [
    "df_general_results = pd.read_csv(\"Data/general_results.csv\", delimiter=\";\")\n",
    "df_general_results"
   ]
  },
  {
   "cell_type": "code",
   "execution_count": null,
   "id": "8b3c3fa8-17e4-4d80-b735-717034d48750",
   "metadata": {
    "tags": []
   },
   "outputs": [
    {
     "name": "stderr",
     "output_type": "stream",
     "text": [
      "C:\\Users\\quentin.bacot.FRLT304136\\AppData\\Local\\Temp\\ipykernel_8444\\3880825919.py:1: DtypeWarning: Columns (2,3,4,6,7,8,12,13,14,15,16,17) have mixed types. Specify dtype option on import or set low_memory=False.\n",
      "  df_candidats_results = pd.read_csv(\"Data\\candidats_results.csv\", delimiter = \";\")\n"
     ]
    }
   ],
   "source": [
    "df_candidats_results = pd.read_csv(\"Data\\candidats_results.csv\", delimiter = \";\")\n",
    "df_candidats_results "
   ]
  },
  {
   "cell_type": "code",
   "execution_count": null,
   "id": "c398257a-5ff9-4561-9e4b-63ff934b90c5",
   "metadata": {
    "tags": []
   },
   "outputs": [],
   "source": [
    "df_delinquance = pd.read_csv(\"Data/delinquance.csv\" , delimiter = \";\")\n",
    "df_delinquance"
   ]
  },
  {
   "cell_type": "markdown",
   "id": "3cd4338e-21e2-4d1a-99c7-4c0c136649ca",
   "metadata": {},
   "source": [
    "## Analyse des données "
   ]
  },
  {
   "cell_type": "code",
   "execution_count": null,
   "id": "dcc6604b-0d2f-4f66-8c08-816f8ad38407",
   "metadata": {
    "tags": []
   },
   "outputs": [],
   "source": [
    "# Type des colonnes \n",
    "df_general_results.info()"
   ]
  },
  {
   "cell_type": "code",
   "execution_count": null,
   "id": "4fe1661e-e70a-442d-9559-ca2067683768",
   "metadata": {
    "tags": []
   },
   "outputs": [],
   "source": [
    "df_general_results.describe(include = \"all\")"
   ]
  },
  {
   "cell_type": "code",
   "execution_count": null,
   "id": "d01563f3-cc22-4dce-a4b3-ef5712e59101",
   "metadata": {
    "tags": []
   },
   "outputs": [],
   "source": [
    "df_general_results.nunique()"
   ]
  },
  {
   "cell_type": "code",
   "execution_count": null,
   "id": "0f6833a8-3ec8-4990-8520-19527c6ed72e",
   "metadata": {
    "tags": []
   },
   "outputs": [],
   "source": [
    "# Liste des éléctions \n",
    "df_general_results[\"id_election\"].unique()"
   ]
  },
  {
   "cell_type": "code",
   "execution_count": null,
   "id": "a193cf2e-71e7-4bf0-b9af-ae50d41f68b2",
   "metadata": {
    "tags": []
   },
   "outputs": [],
   "source": [
    "df_candidats_results.info()"
   ]
  },
  {
   "cell_type": "code",
   "execution_count": null,
   "id": "5b9bb3d5-e609-4e57-abf3-bb12bbcdb891",
   "metadata": {
    "tags": []
   },
   "outputs": [],
   "source": [
    "df_candidats_results.describe(include = \"all\")"
   ]
  },
  {
   "cell_type": "code",
   "execution_count": null,
   "id": "df4b5ff5-ef91-4f45-ae09-86fd32e1f896",
   "metadata": {
    "tags": []
   },
   "outputs": [],
   "source": [
    "df_candidats_results.nunique()"
   ]
  },
  {
   "cell_type": "code",
   "execution_count": null,
   "id": "3faa3a3f-b4b7-4a04-bdcb-1b1f3691b0cb",
   "metadata": {
    "tags": []
   },
   "outputs": [],
   "source": [
    "# Liste des éléctions \n",
    "df_candidats_results[\"id_election\"].unique()"
   ]
  },
  {
   "cell_type": "code",
   "execution_count": null,
   "id": "2dbf32c3-f4d0-4c29-b079-e5518fedfc56",
   "metadata": {
    "tags": []
   },
   "outputs": [],
   "source": [
    "df_delinquance.info()"
   ]
  },
  {
   "cell_type": "code",
   "execution_count": null,
   "id": "22b27cdb-66e1-4225-9ff7-6fc8d5477b9c",
   "metadata": {},
   "outputs": [],
   "source": [
    "df_delinquance.describe(include = "
   ]
  },
  {
   "cell_type": "markdown",
   "id": "a51ac4a1-fe3d-440b-a3a4-9ce76e7c6624",
   "metadata": {},
   "source": [
    "## Traitement des données "
   ]
  },
  {
   "cell_type": "code",
   "execution_count": null,
   "id": "1392bad3-020a-439b-9cd9-dd905352ec3f",
   "metadata": {
    "tags": []
   },
   "outputs": [],
   "source": [
    "df_global = df_general_results.merge(df_candidats_results,on='id_election',indicator = True)\n",
    "df_global"
   ]
  },
  {
   "cell_type": "code",
   "execution_count": null,
   "id": "5c55c0bc-e831-4f93-9f38-1e26839287e0",
   "metadata": {},
   "outputs": [],
   "source": []
  }
 ],
 "metadata": {
  "kernelspec": {
   "display_name": "Python 3 (ipykernel)",
   "language": "python",
   "name": "python3"
  },
  "language_info": {
   "codemirror_mode": {
    "name": "ipython",
    "version": 3
   },
   "file_extension": ".py",
   "mimetype": "text/x-python",
   "name": "python",
   "nbconvert_exporter": "python",
   "pygments_lexer": "ipython3",
   "version": "3.11.5"
  }
 },
 "nbformat": 4,
 "nbformat_minor": 5
}
